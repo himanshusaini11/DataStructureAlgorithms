{
 "cells": [
  {
   "cell_type": "code",
   "execution_count": 4,
   "id": "3de61301",
   "metadata": {},
   "outputs": [
    {
     "data": {
      "text/html": [
       "\n",
       "        <iframe\n",
       "            width=\"100%\"\n",
       "            height=\"650\"\n",
       "            src=\"http://127.0.0.1:8050/\"\n",
       "            frameborder=\"0\"\n",
       "            allowfullscreen\n",
       "            \n",
       "        ></iframe>\n",
       "        "
      ],
      "text/plain": [
       "<IPython.lib.display.IFrame at 0x1165c9750>"
      ]
     },
     "metadata": {},
     "output_type": "display_data"
    }
   ],
   "source": [
    "import dash\n",
    "from dash import dcc, html\n",
    "import dash_bootstrap_components as dbc\n",
    "\n",
    "app = dash.Dash(__name__, external_stylesheets=[dbc.themes.BOOTSTRAP])\n",
    "\n",
    "app.layout = html.Div([\n",
    "    html.H1(\"Sorting Visualizer\"),\n",
    "    dcc.Dropdown(\n",
    "        id='algorithm-dropdown',\n",
    "        options=[\n",
    "            {'label': 'Bubble Sort', 'value': 'bubble'},\n",
    "            {'label': 'Quick Sort', 'value': 'quick'},\n",
    "            # Add other algorithms here\n",
    "        ],\n",
    "        value='bubble',  # Default value\n",
    "    ),\n",
    "    dcc.Graph(id='sort-graph'),\n",
    "    # Add slider for speed control\n",
    "    dcc.Slider(id='speed-slider', min=1, max=5, step=0.5, value=1),\n",
    "    html.Button('Start', id='start-button')\n",
    "])\n",
    "\n",
    "if __name__ == '__main__':\n",
    "    app.run_server(debug=True)\n"
   ]
  },
  {
   "cell_type": "code",
   "execution_count": null,
   "id": "2a8d7fd0",
   "metadata": {},
   "outputs": [],
   "source": []
  }
 ],
 "metadata": {
  "kernelspec": {
   "display_name": "Python 3 (ipykernel)",
   "language": "python",
   "name": "python3"
  },
  "language_info": {
   "codemirror_mode": {
    "name": "ipython",
    "version": 3
   },
   "file_extension": ".py",
   "mimetype": "text/x-python",
   "name": "python",
   "nbconvert_exporter": "python",
   "pygments_lexer": "ipython3",
   "version": "3.11.0"
  }
 },
 "nbformat": 4,
 "nbformat_minor": 5
}
